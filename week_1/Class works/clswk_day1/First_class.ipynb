{
 "cells": [
  {
   "cell_type": "code",
   "execution_count": null,
   "id": "af990b67",
   "metadata": {
    "vscode": {
     "languageId": "plaintext"
    }
   },
   "outputs": [],
   "source": [
    "Print(\"HelLo World\")"
   ]
  },
  {
   "cell_type": "markdown",
   "id": "06bbdc81",
   "metadata": {},
   "source": [
    "Print (\"Hello World\")"
   ]
  }
 ],
 "metadata": {
  "language_info": {
   "name": "python"
  }
 },
 "nbformat": 4,
 "nbformat_minor": 5
}
